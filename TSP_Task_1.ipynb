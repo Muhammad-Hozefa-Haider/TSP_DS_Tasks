{
  "nbformat": 4,
  "nbformat_minor": 0,
  "metadata": {
    "colab": {
      "name": "TSP_Task_1.ipynb",
      "provenance": [],
      "collapsed_sections": [],
      "authorship_tag": "ABX9TyPL786xl/WJgRUsfslcz2wf",
      "include_colab_link": true
    },
    "kernelspec": {
      "name": "python3",
      "display_name": "Python 3"
    },
    "language_info": {
      "name": "python"
    }
  },
  "cells": [
    {
      "cell_type": "markdown",
      "metadata": {
        "id": "view-in-github",
        "colab_type": "text"
      },
      "source": [
        "<a href=\"https://colab.research.google.com/github/Muhammad-Hozefa-Haider/TSP_DS_Tasks/blob/main/TSP_Task_1.ipynb\" target=\"_parent\"><img src=\"https://colab.research.google.com/assets/colab-badge.svg\" alt=\"Open In Colab\"/></a>"
      ]
    },
    {
      "cell_type": "markdown",
      "metadata": {
        "id": "rdfxy_Ig0mHt"
      },
      "source": [
        "# The Sparks Foundation\n",
        "**Data Science & Business Analytics Tasks**\n",
        "\n",
        "Task 1: Prediction Using Unsupervised Learning (Level-Beginner)\n",
        "\n"
      ]
    },
    {
      "cell_type": "markdown",
      "metadata": {
        "id": "K-sMkhzF2yZC"
      },
      "source": [
        "This is a simple regression problem involving two variables. We will be using  Python Scikit-Learn library to implement regression. And finally, we will predict the score of a student if he studies for 9.25 hrs/ day."
      ]
    },
    {
      "cell_type": "markdown",
      "metadata": {
        "id": "1ZzyNyEF3fPi"
      },
      "source": [
        "##Importing libraries"
      ]
    },
    {
      "cell_type": "code",
      "metadata": {
        "id": "OuQ1Nus30Wf-",
        "colab": {
          "base_uri": "https://localhost:8080/"
        },
        "outputId": "40793f4a-f3f4-4fc0-f63e-10a6e140601c"
      },
      "source": [
        "import numpy as np\n",
        "import pandas as pd  \n",
        "import matplotlib.pyplot as plt\n",
        "print('Done!')"
      ],
      "execution_count": 21,
      "outputs": [
        {
          "output_type": "stream",
          "text": [
            "Done!\n"
          ],
          "name": "stdout"
        }
      ]
    },
    {
      "cell_type": "markdown",
      "metadata": {
        "id": "Y5alwZ3Y0kzJ"
      },
      "source": [
        "## Importing Data"
      ]
    },
    {
      "cell_type": "code",
      "metadata": {
        "colab": {
          "base_uri": "https://localhost:8080/",
          "height": 204
        },
        "id": "FuUUrz2O4PLS",
        "outputId": "5917c427-e38b-4878-f59b-0741c87f5e69"
      },
      "source": [
        "sample = pd.read_csv('http://bit.ly/w-data')\n",
        "sample.head(5)"
      ],
      "execution_count": 25,
      "outputs": [
        {
          "output_type": "execute_result",
          "data": {
            "text/html": [
              "<div>\n",
              "<style scoped>\n",
              "    .dataframe tbody tr th:only-of-type {\n",
              "        vertical-align: middle;\n",
              "    }\n",
              "\n",
              "    .dataframe tbody tr th {\n",
              "        vertical-align: top;\n",
              "    }\n",
              "\n",
              "    .dataframe thead th {\n",
              "        text-align: right;\n",
              "    }\n",
              "</style>\n",
              "<table border=\"1\" class=\"dataframe\">\n",
              "  <thead>\n",
              "    <tr style=\"text-align: right;\">\n",
              "      <th></th>\n",
              "      <th>Hours</th>\n",
              "      <th>Scores</th>\n",
              "    </tr>\n",
              "  </thead>\n",
              "  <tbody>\n",
              "    <tr>\n",
              "      <th>0</th>\n",
              "      <td>2.5</td>\n",
              "      <td>21</td>\n",
              "    </tr>\n",
              "    <tr>\n",
              "      <th>1</th>\n",
              "      <td>5.1</td>\n",
              "      <td>47</td>\n",
              "    </tr>\n",
              "    <tr>\n",
              "      <th>2</th>\n",
              "      <td>3.2</td>\n",
              "      <td>27</td>\n",
              "    </tr>\n",
              "    <tr>\n",
              "      <th>3</th>\n",
              "      <td>8.5</td>\n",
              "      <td>75</td>\n",
              "    </tr>\n",
              "    <tr>\n",
              "      <th>4</th>\n",
              "      <td>3.5</td>\n",
              "      <td>30</td>\n",
              "    </tr>\n",
              "  </tbody>\n",
              "</table>\n",
              "</div>"
            ],
            "text/plain": [
              "   Hours  Scores\n",
              "0    2.5      21\n",
              "1    5.1      47\n",
              "2    3.2      27\n",
              "3    8.5      75\n",
              "4    3.5      30"
            ]
          },
          "metadata": {
            "tags": []
          },
          "execution_count": 25
        }
      ]
    },
    {
      "cell_type": "markdown",
      "metadata": {
        "id": "-W-x2k8q4i5f"
      },
      "source": [
        "## Plotting the distribution of score"
      ]
    },
    {
      "cell_type": "code",
      "metadata": {
        "colab": {
          "base_uri": "https://localhost:8080/",
          "height": 295
        },
        "id": "dXkh3rHY45D3",
        "outputId": "11028106-1ebf-4b59-e31b-12770dda23bf"
      },
      "source": [
        "sample.plot(x='Hours',y='Scores',style='o')\n",
        "plt.scatter(sample.loc[:,'Hours'],sample.loc[:,'Scores'])\n",
        "plt.xlabel('Number of Hours')\n",
        "plt.ylabel('Score Percentage')\n",
        "plt.title('Distribution of Score against Hours studied')\n",
        "plt.show()"
      ],
      "execution_count": 37,
      "outputs": [
        {
          "output_type": "display_data",
          "data": {
            "image/png": "[encoded data removed]",
            "text/plain": [
              "<Figure size 432x288 with 1 Axes>"
            ]
          },
          "metadata": {
            "tags": [],
            "needs_background": "light"
          }
        }
      ]
    },
    {
      "cell_type": "markdown",
      "metadata": {
        "id": "qzVt0DD__gB7"
      },
      "source": [
        "As you can see from the given scatterplot, there is a positive relation between Number of Hours and Score Percentage."
      ]
    },
    {
      "cell_type": "markdown",
      "metadata": {
        "id": "AwV6Sqxp_xie"
      },
      "source": [
        "## Preparing Data for training"
      ]
    },
    {
      "cell_type": "markdown",
      "metadata": {
        "id": "XBoTS8xUAkR1"
      },
      "source": [
        "First, we will divide our data into attributes and labels and then we will divide the data further into our Train and Test sets using Skicit-Learn"
      ]
    },
    {
      "cell_type": "code",
      "metadata": {
        "colab": {
          "base_uri": "https://localhost:8080/"
        },
        "id": "igqQ2gzhAkGF",
        "outputId": "d62277ef-6a5b-402c-efe9-274d76ee78c7"
      },
      "source": [
        "X=sample.loc[:, :'Hours'].values\n",
        "y=sample.loc[:,'Scores'].values\n",
        "\n",
        "#\n",
        "from sklearn.model_selection import train_test_split\n",
        "X_train, X_test, y_train, y_test = train_test_split(X, y, random_state=0)\n",
        "print('Done!')"
      ],
      "execution_count": 51,
      "outputs": [
        {
          "output_type": "stream",
          "text": [
            "Done!\n"
          ],
          "name": "stdout"
        }
      ]
    },
    {
      "cell_type": "markdown",
      "metadata": {
        "id": "VomSMKrEDL56"
      },
      "source": [
        "## Training Model"
      ]
    },
    {
      "cell_type": "markdown",
      "metadata": {
        "id": "8a3eBuk_EOdm"
      },
      "source": [
        "As we have both the test and train sets of data, now we can train our model. After that, we will plot our regression line on our distribution graph."
      ]
    },
    {
      "cell_type": "code",
      "metadata": {
        "colab": {
          "base_uri": "https://localhost:8080/",
          "height": 312
        },
        "id": "4fm9_xhkD0iz",
        "outputId": "981d39ef-8bc7-4fb0-e64e-48ba86ca5cfc"
      },
      "source": [
        "from sklearn.linear_model import LinearRegression\n",
        "reg=LinearRegression().fit(X_train,y_train)\n",
        "print('Done!')\n",
        "\n",
        "#plotting the regression line\n",
        "reg_line = reg.coef_*X+reg.intercept_\n",
        "plt.scatter(X,y)\n",
        "plt.plot(X,reg_line,color='orange')\n",
        "plt.xlabel('Number of Hours')\n",
        "plt.ylabel('Score Percentage')\n",
        "plt.title('Distribution of Score against Hours studied')\n",
        "plt.show()"
      ],
      "execution_count": 52,
      "outputs": [
        {
          "output_type": "stream",
          "text": [
            "Done!\n"
          ],
          "name": "stdout"
        },
        {
          "output_type": "display_data",
          "data": {
            "image/png": "[encoded data removed]",
            "text/plain": [
              "<Figure size 432x288 with 1 Axes>"
            ]
          },
          "metadata": {
            "tags": [],
            "needs_background": "light"
          }
        }
      ]
    },
    {
      "cell_type": "markdown",
      "metadata": {
        "id": "wxhShC_6EN5a"
      },
      "source": [
        "## Predictions based on our Model"
      ]
    },
    {
      "cell_type": "markdown",
      "metadata": {
        "id": "wyTzeY7RMFZw"
      },
      "source": [
        "We will use our model trained on the sample data to predict the score percentages. And then, we will compare it with our dataset and evaluate the performance by calculating mean square error"
      ]
    },
    {
      "cell_type": "code",
      "metadata": {
        "colab": {
          "base_uri": "https://localhost:8080/",
          "height": 312
        },
        "id": "CUbedIajAgwx",
        "outputId": "536c3b1d-0c35-48cf-e2db-e00beba1a4f1"
      },
      "source": [
        "y_pred=reg.predict(X_test)\n",
        "\n",
        "plt.scatter(X_test,y_test, color='orange')\n",
        "plt.scatter(X_test,y_pred, color='blue')\n",
        "plt.xlabel('Number of Hours')\n",
        "plt.ylabel('Score Percentage')\n",
        "plt.title('Distribution of Score against Hours studied')\n",
        "plt.show()\n",
        "\n",
        "from sklearn import metrics\n",
        "error = metrics.mean_absolute_error(y_test, y_pred)\n",
        "print('Mean Absolute Error:', error) "
      ],
      "execution_count": 58,
      "outputs": [
        {
          "output_type": "display_data",
          "data": {
            "image/png": "[encoded data removed]",
            "text/plain": [
              "<Figure size 432x288 with 1 Axes>"
            ]
          },
          "metadata": {
            "tags": [],
            "needs_background": "light"
          }
        },
        {
          "output_type": "stream",
          "text": [
            "Mean Absolute Error: 4.130879918502482\n"
          ],
          "name": "stdout"
        }
      ]
    },
    {
      "cell_type": "markdown",
      "metadata": {
        "id": "5b0J8pThNVV-"
      },
      "source": [
        "As we can see, our predicted score(in blue) is quite close to the sample score(in orange). The deviation is may be due to the small dataset size."
      ]
    },
    {
      "cell_type": "markdown",
      "metadata": {
        "id": "1H2Jru0MNqul"
      },
      "source": [
        "##What will be predicted score if a student studies for 9.25 hrs/ day?"
      ]
    },
    {
      "cell_type": "markdown",
      "metadata": {
        "id": "6FrtPnKCNwta"
      },
      "source": [
        "We can predict the score percentage by using our regression model;"
      ]
    },
    {
      "cell_type": "code",
      "metadata": {
        "colab": {
          "base_uri": "https://localhost:8080/"
        },
        "id": "VfuL3akrPBcY",
        "outputId": "f400671e-6ceb-4b47-9502-44007ab5c052"
      },
      "source": [
        "Hrs_per_day = 9.25\n",
        "hrs=[[Hrs_per_day]]\n",
        "pred_score = reg.predict(hrs)\n",
        "print('Number of Hours = ', Hrs_per_day)\n",
        "print('Predicted Score Percentage = ', pred_score[0])\n"
      ],
      "execution_count": 59,
      "outputs": [
        {
          "output_type": "stream",
          "text": [
            "Number of Hours =  9.25\n",
            "Predicted Score Percentage =  93.89272889341652\n"
          ],
          "name": "stdout"
        }
      ]
    }
  ]
}
